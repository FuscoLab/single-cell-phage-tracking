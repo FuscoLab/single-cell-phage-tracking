{
 "cells": [
  {
   "cell_type": "markdown",
   "id": "a6f06bb1-27fb-48c5-ba70-2824d964b4d4",
   "metadata": {
    "tags": []
   },
   "source": [
    "# Mother Machine Diffusion Model Version 3.2\n",
    "#### To be uploaded in support of Wedd et al 2024\n",
    "#### Aaron Smith 2024"
   ]
  },
  {
   "cell_type": "markdown",
   "id": "ca211ad6-f07d-4dd0-bc87-a16b2ce1bf3e",
   "metadata": {
    "tags": []
   },
   "source": [
    "## Preamble"
   ]
  },
  {
   "cell_type": "markdown",
   "id": "d5ddfc1e-7402-47ec-92a6-1e127a4f0292",
   "metadata": {
    "jp-MarkdownHeadingCollapsed": true,
    "tags": []
   },
   "source": [
    "#### Discretised Diffusion Equation\n",
    "Older models were based on iterating over the equation:  \n",
    "\n",
    "$$\\Delta V =  \\biggl( \\frac{D}{(\\Delta x)^2}(V_{x+1,y,z}+V_{x-1,y,z}+V_{x,y+1,z}+V_{x,y-1,z}+V_{x,y,z+1}+V_{x,y,z-1} - 6V_{x,y,z})-a(x,y,z)V_{x,y,z} \\biggr) \\Delta t$$\n",
    "\n",
    "#### Random Walk\n",
    "This model seeks to solve the same problem faster by tracking individual phage as random walkers in a 3D lattice rather than by evaluating a continuous concentration at all points.\n",
    "\n",
    "#### Notes\n",
    "Note further that **\"x\" represents the vertical direction (DOWN), and \"y\" the horizontal direction (RIGHT).** This choice is to keep the cross section coordinates (x down, y right) equivalent to array indices (row x of X, column y of Y).\n",
    "\n",
    "#### Equations\n",
    "Probability distribution $V$ evolves according to:\n",
    "$$\\frac{\\partial V}{\\partial t} = D\\frac{\\partial^2 V}{\\partial x^2}$$\n",
    "\n",
    "For Diffusivity $D$ related to Random-Walk by:\n",
    "$$D = \\frac{(\\Delta x)^2}{2 \\Delta t}$$\n",
    "\n",
    "Through Relating Probability Distributions:\n",
    "$$P(x,t)\n",
    "= \\sqrt{\\frac{\\Delta t}{2\\pi t}} \\exp\\biggl(- \\frac{\\Delta tx^2}{2t(\\Delta x)^2}\\biggr)\n",
    "= \\sqrt{\\frac{(\\Delta x)^2}{4\\pi Dt}} e^{-x^2/4Dt}\n",
    "$$"
   ]
  },
  {
   "cell_type": "markdown",
   "id": "4f30fa97-fc02-46fd-b61d-ac700b210ef2",
   "metadata": {},
   "source": [
    "### How To Use This Code\n",
    "All parameters are set using the block directly under \"Initialisation\". Users looking to reproduce the results presented in *Wedd et al 2024* should not need to make any edits outside of this block."
   ]
  },
  {
   "cell_type": "markdown",
   "id": "282096ab-0ab8-47d3-bff4-f4e357f7c7bc",
   "metadata": {
    "tags": []
   },
   "source": [
    "### Operation\n",
    "At a high level, the program operates as follows:\n",
    "- We define a cross-section, with each cell being either liquid, hard-wall, or *E coli*.\n",
    "- We simulate a number of trenches in parallel by making phages non-interacting with each other (essentially assuming a low-concentration limit, of order 1 per trench).\n",
    "- At every timestep, each unbound virion tries to take a step in x, y, and z, doing these one at a time, and failing if it tries to step into a wall. If it tries to step into an *E coli* there is a probability $A$ that it will adsorb and stick there.\n",
    "- Virions that step to negative z are assumed to flow away after returning to the feeding lane, and are removed from the sim."
   ]
  },
  {
   "cell_type": "markdown",
   "id": "f5ddd246-5f00-472e-8942-3defb1783671",
   "metadata": {},
   "source": [
    "## Code"
   ]
  },
  {
   "cell_type": "markdown",
   "id": "6a7adfd7-2851-4a87-b06f-61d221b839af",
   "metadata": {
    "tags": []
   },
   "source": [
    "### Import Modules and Draw Trench Cross-Sections"
   ]
  },
  {
   "cell_type": "code",
   "execution_count": 1,
   "id": "fd60acfa-3fc9-4fc5-978f-307c6993de70",
   "metadata": {},
   "outputs": [],
   "source": [
    "## Import Statements ##\n",
    "import numpy as np\n",
    "import scipy as sp\n",
    "import pandas as pd\n",
    "import copy\n",
    "import matplotlib as mpl\n",
    "import matplotlib.pyplot as plt\n",
    "from matplotlib.collections import LineCollection\n",
    "import itertools as itl\n",
    "from alive_progress import alive_bar\n",
    "import numba\n",
    "from numba import jit\n",
    "\n",
    "## Perceptually Uniform Colourmaps ##\n",
    "viridis = mpl.cm.viridis\n",
    "magma = mpl.cm.magma"
   ]
  },
  {
   "cell_type": "code",
   "execution_count": 2,
   "id": "e9eb208a-2a8d-413d-ab65-4ba857acc6e2",
   "metadata": {},
   "outputs": [],
   "source": [
    "## Cross-Section Library ##\n",
    "#### NOTE - ALL MEASUREMENTS ARE NOW IN NANOMETERS ####\n",
    "\n",
    "\n",
    "\n",
    "# Narrow Empty Channel for Testing\n",
    "def XS0(dx):\n",
    "    h = 400    # XSec height (x) in nm\n",
    "    w = 400    # XSec width (y) in nm\n",
    "    H = int(round(h/dx))    # XSec height (x) in pxl\n",
    "    W = int(round(w/dx))    # XSec width (y) in pxl\n",
    "    XSec = np.zeros([H,W])\n",
    "\n",
    "    for (i,j) in itl.product(range(0,H),range(0,W)):\n",
    "        if i == 0 or i == H-1: XSec[i,j] = 1    #Wall\n",
    "        if j == 0 or j == W-1: XSec[i,j] = 1    #Wall\n",
    "        \n",
    "    return(XSec)\n",
    "\n",
    "\n",
    "\n",
    "# Cross Section Nature Narrow\n",
    "def XSNn(dx):\n",
    "    h = 1400    # XSec height (x) in nm\n",
    "    w = 1400    # XSec width (y) in nm\n",
    "    H = int(round(h/dx))    # XSec height (x) in pxl\n",
    "    W = int(round(w/dx))    # XSec width (y) in pxl\n",
    "    XSec = np.zeros([H,W])\n",
    "\n",
    "    for (i,j) in itl.product(range(0,H),range(0,W)):\n",
    "        if i == 0 or i == H-1: XSec[i,j] = 1    #Wall\n",
    "        if j == 0 or j == W-1: XSec[i,j] = 1    #Wall\n",
    "        if ((i+0.5)*dx-(900-dx))**2 + ((j+0.5)*dx-700)**2 <= 500**2: XSec[i,j] = 2    #Cell, radius 500nm; centre (900nm - dx) down, 700nm right.\n",
    "    \n",
    "    print(\"Chosen Scale: {} nm per pixel.\".format(dx))\n",
    "    print(\"Cross-Section includes dimensions: 1400 (Walls), 900nm, 700nm, 500nm (Cell).\")\n",
    "    print(\"These have been scaled to: {}, {}, {}, {} pixels\".format(1400/dx, 900/dx, 700/dx, 500/dx))\n",
    "    print(\"Note that non-integer scaling, espcially in trench width and height, may skew the geometry.\")\n",
    "    \n",
    "    return(XSec)\n",
    "\n",
    "\n",
    "\n",
    "# Cross Section Nature Wide\n",
    "def XSNw(dx):\n",
    "    h = 1400    # XSec height (x) in nm\n",
    "    w = 7000    # XSec width (y) in nm\n",
    "    H = int(round(h/dx))    # XSec height (x) in pxl\n",
    "    W = int(round(w/dx))    # XSec width (y) in pxl\n",
    "    XSec = np.zeros([H,W])\n",
    "\n",
    "    for (i,j) in itl.product(range(0,H),range(0,W)):\n",
    "        if i == 0 or i == H-1: XSec[i,j] = 1    #Wall\n",
    "        if j == 0 or j == W-1: XSec[i,j] = 1    #Wall\n",
    "        if 0 < (i+0.5)*dx < 1000 and 0 < (j+0.5)*dx < 2800: XSec[i,j] = 1    #Block\n",
    "        if 0 < (i+0.5)*dx < 1000 and 4200 < (j+0.5)*dx < 7000: XSec[i,j] = 1    #Block\n",
    "        if ((i+0.5)*dx-(900-dx))**2 + ((j+0.5)*dx-3500)**2 <= 500**2: XSec[i,j] = 2    #Cell, radius 500nm; centre (900nm - dx) down, 3500nm right.\n",
    "    \n",
    "    print(\"Chosen Scale: {} nm per pixel.\".format(dx))\n",
    "    print(\"Cross-Section includes dimensions: 7000nm, 1400nm (Walls), 3500nm, 900nm, 500nm (Cell), 4200nm, 2800nm, 1000nm (Blocks).\")\n",
    "    print(\"These have been scaled to: {}, {}, {}, {}, {}, {}, {}, {} pixels\".format(7000/dx, 1400/dx, 3500/dx, 900/dx, 500/dx, 4200/dx, 2800/dx, 1000/dx))\n",
    "    print(\"Note that non-integer scaling, espcially in trench width and height, may skew the geometry.\")\n",
    "    \n",
    "    return(XSec)\n",
    "\n",
    "\n",
    "\n",
    "## Cross Section Dictionary ##\n",
    "XSecs = {\"XS0\" : XS0,\n",
    "         \"XSNn\": XSNn,\n",
    "         \"XSNw\": XSNw}"
   ]
  },
  {
   "cell_type": "markdown",
   "id": "fe50e1a3-b336-4d3e-907d-abf653e4bb12",
   "metadata": {
    "tags": []
   },
   "source": [
    "### Define Objects and Functions"
   ]
  },
  {
   "cell_type": "code",
   "execution_count": 3,
   "id": "0b1335a3-116a-40dc-b364-b3552abeea32",
   "metadata": {},
   "outputs": [],
   "source": [
    "## Define the Random Step Function using Numba ##\n",
    "\n",
    "@jit(nopython = True)\n",
    "def Random_Step_Optimised(coords, cross_section, adsorb_prob, free, z_max, can_escape):\n",
    "\n",
    "    for i in range(len(coords)):        # For each of x, y, z:\n",
    "\n",
    "        coinflip = (-1)**(np.random.randint(0, 2))   # Either +1 or -1, at random.\n",
    "        coords[i] += coinflip                   # Attempt to take a step\n",
    "\n",
    "        if cross_section[coords[0], coords[1]] == 1:   # If we hit a wall, bounce off\n",
    "            coords[i] -= coinflip\n",
    "\n",
    "        elif cross_section[coords[0], coords[1]] == 2:    # If we hit a cell, bounce or adsorb  \n",
    "            if np.random.rand() < adsorb_prob:\n",
    "                free = \"bound\"   # Virion wil finish this movement step, and then halt\n",
    "            coords[i] -= coinflip\n",
    "                    \n",
    "    if coords[2] == z_max:    # If we hit the far end of the trench, bounce off\n",
    "        coords[2] -= coinflip\n",
    "#       print(\"Bounced off the end at {} during step {}\".format(self.coords, len(self.path)))\n",
    "                \n",
    "    if coords[2] < 0 and can_escape :    # If we hit the near end of the trench, fall out\n",
    "        free = \"escaped\"\n",
    "#       print(\"Escaped at {} during step {}\".format(self.coords, len(self.path)))\n",
    "            \n",
    "#   if self.free == \"bound\":\n",
    "#       print(\"Adsorbed at {} during step {}\".format(self.coords, len(self.path)))\n",
    "                \n",
    "    return(coords, cross_section, adsorb_prob, free)\n"
   ]
  },
  {
   "cell_type": "code",
   "execution_count": 4,
   "id": "1266249a-dd38-44b8-8068-d15b65b5b1d9",
   "metadata": {},
   "outputs": [],
   "source": [
    "## Define a Class for the Virion object ##\n",
    "\n",
    "class Virion:\n",
    "    \n",
    "    def __init__(self, start_coordinates, adsorb_prob, can_escape = True):\n",
    "        self.coords = np.asarray(start_coordinates)\n",
    "        self.path = [copy.copy(self.coords)]    # List of all previously occupied positions\n",
    "        self.free = \"unbound\"    # Is phage currently unbound, bound, or escaped?\n",
    "        self.adsorb_prob = adsorb_prob\n",
    "        self.lag_table = []\n",
    "        self.can_escape = can_escape\n",
    "        \n",
    "    def __str__(self):\n",
    "        return(\"Virion Object at Coordinates: {}.\".format(self.coords))\n",
    "        \n",
    "        \n",
    "    def Random_Step(self, cross_section, z_max):\n",
    "        self.coords, self.cross_section, self.adsorb_prob, self.free = Random_Step_Optimised(self.coords, cross_section, self.adsorb_prob, self.free, z_max, self.can_escape)\n",
    "        self.path.append(copy.copy(self.coords)) # Record New Position\n",
    "    "
   ]
  },
  {
   "cell_type": "code",
   "execution_count": 5,
   "id": "5b7abfba-626a-4493-aaa4-60aa81518a3e",
   "metadata": {},
   "outputs": [],
   "source": [
    "## Plotting Functions ##\n",
    "\n",
    "def Trace(x, y, c, maxima, Nt = None, cmap = viridis):\n",
    "    \n",
    "    # Create a set of line segments so that we can color them individually\n",
    "    # This creates the points as a N x 1 x 2 array so that we can stack points\n",
    "    # together easily to get the segments. The segments array for line collection\n",
    "    # needs to be (numlines) x (points per line) x 2 (for x and y)\n",
    "    points = np.array([x, y]).T.reshape(-1, 1, 2)\n",
    "    segments = np.concatenate([points[:-1], points[1:]], axis=1)\n",
    "\n",
    "    fig, axs = plt.subplots()\n",
    "    axs.set_xlim(0, maxima[0])\n",
    "    axs.set_ylim(0, maxima[1])\n",
    "    axs.xaxis.set_ticks_position('top')\n",
    "    axs.xaxis.set_label_position('top')\n",
    "    axs.invert_yaxis()\n",
    "\n",
    "    # Create a continuous norm to map from data points to colors\n",
    "    norm = plt.Normalize(0, Nt)\n",
    "    lc = LineCollection(segments, cmap=cmap, norm=norm)\n",
    "    # Set the values used for colormapping\n",
    "    lc.set_array(c)\n",
    "    lc.set_linewidth(2)\n",
    "    line = axs.add_collection(lc)\n",
    "    cbar = fig.colorbar(line, ax=axs)\n",
    "    cbar.outline.set_visible(False)\n",
    "    cbar.ax.set_ylabel(\"Timestep\", rotation=-90, va=\"bottom\")\n",
    "    \n",
    "    return()\n",
    "\n",
    "\n",
    "\n",
    "\n",
    "def Plot_Traces(phage, xsec, zmax, Nt, how_many = 1, cmap = viridis):\n",
    "    X = []\n",
    "    Y = []\n",
    "    Z = []\n",
    "\n",
    "    for entry in phage.path:\n",
    "        X.append(entry[0])\n",
    "        Y.append(entry[1])\n",
    "        Z.append(entry[2])\n",
    "\n",
    "    C = np.linspace(0, len(X), len(X))\n",
    "    \n",
    "    if how_many in [2, 3]:\n",
    "        Trace(Y, X, C, (len(xsec[0])-1, len(xsec)-1), Nt, cmap)\n",
    "        plt.xlabel(\"Y Direction / Voxels\")\n",
    "        plt.ylabel(\"X Direction / Voxels\")\n",
    "        plt.title(\"Cross-Section View\")\n",
    "    \n",
    "    if how_many in [3]:\n",
    "        Trace(Z, X, C, (zmax, len(xsec)-1), Nt, cmap)\n",
    "        plt.xlabel(\"Z Direction / Voxels\")\n",
    "        plt.ylabel(\"X Direction / Voxels\")\n",
    "        plt.title(\"Side View\")\n",
    "    \n",
    "    if how_many in [1, 2, 3]:\n",
    "        Trace(Y, Z, C, (len(xsec[0])-1, zmax), Nt, cmap)\n",
    "        plt.xlabel(\"Y Direction / Voxels\")\n",
    "        plt.ylabel(\"Z Direction / Voxels\")\n",
    "        plt.title(\"Top View\")\n",
    "    return()\n",
    "    "
   ]
  },
  {
   "cell_type": "markdown",
   "id": "79a41128-84c3-4822-af27-cacec950550a",
   "metadata": {},
   "source": [
    "### Initialisation"
   ]
  },
  {
   "cell_type": "code",
   "execution_count": 6,
   "id": "8841b0db-eaf0-4601-bae0-445b35daa38b",
   "metadata": {},
   "outputs": [
    {
     "name": "stdout",
     "output_type": "stream",
     "text": [
      "Chosen Scale: 50 nm per pixel.\n",
      "Cross-Section includes dimensions: 7000nm, 1400nm (Walls), 3500nm, 900nm, 500nm (Cell), 4200nm, 2800nm, 1000nm (Blocks).\n",
      "These have been scaled to: 140.0, 28.0, 70.0, 18.0, 10.0, 84.0, 56.0, 20.0 pixels\n",
      "Note that non-integer scaling, espcially in trench width and height, may skew the geometry.\n",
      "\n",
      "dt:  0.00031250000000000006\n",
      "A:  0.00010416666666666669\n",
      "V_vox:  0\n",
      "Z_vox:  1401\n",
      "Height:  28\n",
      "Width:  140\n",
      "Nt:  3839999\n"
     ]
    }
   ],
   "source": [
    "## Simulation Parameters ##\n",
    "\n",
    "# Free #\n",
    "dx = 50    # Step size in nm\n",
    "D = 4    # Diffusivity in um^2 per s\n",
    "V_rad = 25    # Virion radius (nm), assumed spherical\n",
    "aB0 = 10    # Adsorbtion Rate in bulk, per minute (ml per min); either float, or list of floats.\n",
    "Z_um = 70    # Trench length in um\n",
    "XS_str = \"XSNw\"    # Selected Cross Section, either XS0, XSNn, XSNw as string\n",
    "Can_Escape = True    # Whether to allow virions which enter the feeding lane (z < 0) to escape the simulation.\n",
    "N_parallel = 1*10**5    # Number of phage paths to simulate. Phages are all run in series / non-interacting.\n",
    "T = 20*60    # Simulation Timeout in seconds (of simulated time).\n",
    "np.random.seed(1)\n",
    "\n",
    "# Array Jobs #\n",
    "if type(aB0) == list:\n",
    "    ArrayID = int(sys.argv[1])\n",
    "    aB0 = aB0[ArrayID]\n",
    "\n",
    "# Calculated #\n",
    "dt = (dx/1000)**2 / (2*D)\n",
    "A = 2 * aB0 * dt / 60    # Adsorption Probability on attempting to move into cell.\n",
    "V_vox = int(round(V_rad / dx))\n",
    "Z_vox = int((Z_um*1000 / dx) + 1)    # Trench length in voxels. +1 added for hard wall at the end\n",
    "C_vox = 2000 / dx    # Length of cell in voxels\n",
    "XS = XSecs[XS_str](dx)    # XS calculated by calling the appropriate function, with dx_nm as the argument\n",
    "Height = len(XS)\n",
    "Width = len(XS[0])\n",
    "Nt = int(T/dt)\n",
    "\n",
    "# Print Calculated #\n",
    "print()\n",
    "print(\"dt: \", dt)\n",
    "print(\"A: \", A)\n",
    "print(\"V_vox: \", V_vox)\n",
    "print(\"Z_vox: \", Z_vox)\n",
    "print(\"Height: \", Height)\n",
    "print(\"Width: \", Width)\n",
    "print(\"Nt: \", Nt)\n",
    "\n",
    "if A >= 1:\n",
    "    raise Exception(\"Error: Adsorbtion Probability Exceeds 1\")"
   ]
  },
  {
   "cell_type": "code",
   "execution_count": 7,
   "id": "e9e27857-ac26-4e79-8149-92a1109dcdbe",
   "metadata": {},
   "outputs": [
    {
     "data": {
      "image/png": "[encoded data removed]",
      "text/plain": [
       "<Figure size 640x480 with 1 Axes>"
      ]
     },
     "metadata": {},
     "output_type": "display_data"
    },
    {
     "data": {
      "text/plain": [
       "<Figure size 640x480 with 0 Axes>"
      ]
     },
     "metadata": {},
     "output_type": "display_data"
    }
   ],
   "source": [
    "## Display Chosen Cross Section ##\n",
    "plt.imshow(XS, cmap = viridis, vmin = 0, vmax = 2, interpolation = \"none\")\n",
    "plt.xlabel(\"y / voxels\")\n",
    "plt.ylabel(\"x / voxels\")\n",
    "plt.title(\"Trench Cross Section\")\n",
    "plt.show()\n",
    "plt.clf()"
   ]
  },
  {
   "cell_type": "code",
   "execution_count": 8,
   "id": "8c1c2e9b-4e8b-430b-b1db-245f88c82b67",
   "metadata": {},
   "outputs": [
    {
     "name": "stdout",
     "output_type": "stream",
     "text": [
      "Calculating Exclusion Zones\n"
     ]
    },
    {
     "data": {
      "image/png": "[encoded data removed]",
      "text/plain": [
       "<Figure size 640x480 with 1 Axes>"
      ]
     },
     "metadata": {},
     "output_type": "display_data"
    },
    {
     "data": {
      "text/plain": [
       "<Figure size 640x480 with 0 Axes>"
      ]
     },
     "metadata": {},
     "output_type": "display_data"
    }
   ],
   "source": [
    "## Create \"Shadows ##\n",
    "# Pixels may be smaller than the virion. Compensate this by reducing the virion to a point, and expanding the cell and walls by virion radius.\n",
    "\n",
    "XS_Shadow = copy.copy(XS)\n",
    "\n",
    "# Shadows #\n",
    "print(\"Calculating Exclusion Zones\")\n",
    "for (i, j, di, dj) in itl.product(range(Height), range(Width), range(-V_vox, V_vox+1), range(-V_vox, V_vox+1)):\n",
    "\n",
    "    # Cell Shadows #\n",
    "    if XS[i,j] == 2:\n",
    "        if (di)**2 + (dj)**2 <= (V_vox)**2 and (i + di) in range(Height) and (j + dj) in range(Width):\n",
    "            XS_Shadow[i + di, j + dj] = 2\n",
    "\n",
    "    # Wall Shadows #\n",
    "    elif XS[i,j] == 1:\n",
    "        if (di)**2 + (dj)**2 <= (V_vox)**2 and (i + di) in range(Height) and (j + dj) in range(Width):\n",
    "            XS_Shadow[i + di, j + dj] = 1\n",
    "\n",
    "            \n",
    "\n",
    "            \n",
    "## Display Shadow Cross Section ##\n",
    "# Create a special cross section (for visual use only) which distinguishes from \"truly\" the cell, and the cell's exclusion zone.\n",
    "XS_Display = copy.copy(XS)\n",
    "\n",
    "for (i,j) in itl.product(range(Height), range(Width)):\n",
    "    if XS_Shadow[i,j] != XS[i,j]:\n",
    "        if XS_Shadow[i,j] == 1:\n",
    "            XS_Display[i,j] = 0.5\n",
    "        elif XS_Shadow[i,j] == 2:\n",
    "            XS_Display[i,j] = 1.7\n",
    "\n",
    "plt.imshow(XS_Display, cmap = viridis, vmin = 0, vmax = 2, interpolation = \"none\")\n",
    "plt.xlabel(\"y / voxels\")\n",
    "plt.ylabel(\"x / voxels\")\n",
    "plt.title(\"Cross Section with Exclusion Zones\")\n",
    "plt.show()\n",
    "plt.clf()\n",
    "\n",
    "# Finally, use the shadow cross section as the one we actually want to work with #\n",
    "XS = XS_Shadow"
   ]
  },
  {
   "cell_type": "code",
   "execution_count": 9,
   "id": "c1b994af-ca3b-4c96-856f-923ca30506b2",
   "metadata": {},
   "outputs": [],
   "source": [
    "## Create the set of Virions ##\n",
    "\n",
    "Virion_Set = []\n",
    "\n",
    "# Create Random (Liquid) Start Coordinates #\n",
    "for i in range(N_parallel):\n",
    "    \n",
    "    start_coords = np.array([0,0,0])\n",
    "    \n",
    "    while XS[start_coords[0], start_coords[1]] != 0:\n",
    "        start_coords[0] = np.random.randint(0, Height)\n",
    "        start_coords[1] = np.random.randint(0, Width)\n",
    "    \n",
    "    Virion_Set.append(Virion(start_coords, A, Can_Escape))\n",
    "   "
   ]
  },
  {
   "cell_type": "markdown",
   "id": "8c1dc33d-86b6-4f74-9b36-80d323ecfed1",
   "metadata": {
    "tags": []
   },
   "source": [
    "### Run the Simulation"
   ]
  },
  {
   "cell_type": "code",
   "execution_count": 10,
   "id": "6c23a8e0-a560-4e49-963d-11340bb44610",
   "metadata": {},
   "outputs": [
    {
     "name": "stdout",
     "output_type": "stream",
     "text": [
      "Running Simulation\n",
      "|████████████████████████████████████████| 100000/100000 [100%] in 8:55.6 (186.5 ▂▂▄ 194/100000 [0%] in 2s (~15:30, 10 ▄▆█ 194/100000 [0%] in 2s (~17:34, 91 ▆▄▂ 194/100000 [0%] in 3s (~20:53, 77 ▅▃▁ 1775/100000 [2%] in 8s (~7:13, 22 ▅▃▁ 2764/100000 [3%] in 10s (~5:58, 2 ▅▃▁ 3913/100000 [4%] in 17s (~7:08, 2 ▁▃▅ 7435/100000 [7%] in 32s (~6:37, 2 ▄▆█ 10705/100000 [11%] in 37s (~5:09, ▄▆█ 10874/100000 [11%] in 39s (~5:15, ▇▅▃ 12046/100000 [12%] in 42s (~5:09, ▄▂▂ 12371/100000 [12%] in 43s (~5:10, ▆█▆ 13251/100000 [13%] in 49s (~5:18, ▄▆█ 15534/100000 [16%] in 1:01 (~5:29 ▃▅▇ 17067/100000 [17%] in 1:05 (~5:17 ▅▇▇ 17882/100000 [18%] in 1:10 (~5:21 ▇▇▅ 20682/100000 [21%] in 1:33 (~5:54 ▃▅▇ 21230/100000 [21%] in 1:37 (~5:58 ▆█▆ 21763/100000 [22%] in 1:40 (~5:59 ▇▅▃ 23018/100000 [23%] in 1:51 (~6:13 ▂▂▄ 24320/100000 [24%] in 2:00 (~6:13 ▇▅▃ 24612/100000 [25%] in 2:03 (~6:15 ▄▆█ 25931/100000 [26%] in 2:08 (~6:05 █▆▄ 28639/100000 [29%] in 2:17 (~5:41 ▆█▆ 28852/100000 [29%] in 2:19 (~5:42 ▄▆█ 31623/100000 [32%] in 2:29 (~5:24 ▁▃▅ 38988/100000 [39%] in 2:53 (~4:31 ▅▇▇ 40382/100000 [40%] in 2:59 (~4:25 ▅▃▁ 40382/100000 [40%] in 3:00 (~4:25 ▇▅▃ 41033/100000 [41%] in 3:00 (~4:20 ▃▅▇ 42020/100000 [42%] in 3:10 (~4:22 ▅▃▁ 42860/100000 [43%] in 3:19 (~4:25 ▁▃▅ 42860/100000 [43%] in 3:20 (~4:26 ▄▂▂ 43527/100000 [44%] in 3:26 (~4:27 ▂▄▆ 43859/100000 [44%] in 3:29 (~4:28 █▆▄ 44167/100000 [44%] in 3:33 (~4:29 ▁▃▅ 45231/100000 [45%] in 3:38 (~4:26 ▂▂▄ 45285/100000 [45%] in 3:40 (~4:25 ▄▂▂ 47615/100000 [48%] in 3:51 (~4:14 ▂▄▆ 47859/100000 [48%] in 3:52 (~4:13 ▆▄▂ 48779/100000 [49%] in 3:57 (~4:09 ▇▅▃ 51048/100000 [51%] in 4:17 (~4:07 ▆▄▂ 51075/100000 [51%] in 4:17 (~4:07 ▅▃▁ 52023/100000 [52%] in 4:25 (~4:04 ▃▅▇ 55120/100000 [55%] in 4:31 (~3:41 ▄▂▂ 55632/100000 [56%] in 4:38 (~3:42 ▂▂▄ 59602/100000 [60%] in 4:56 (~3:20 ▂▂▄ 59695/100000 [60%] in 4:58 (~3:21 ▇▇▅ 59695/100000 [60%] in 5:00 (~3:22 ▁▃▅ 60946/100000 [61%] in 5:09 (~3:18 ▅▇▇ 62852/100000 [63%] in 5:29 (~3:15 ▄▂▂ 63326/100000 [63%] in 5:29 (~3:11 ▃▅▇ 63326/100000 [63%] in 5:29 (~3:11 ▇▅▃ 64192/100000 [64%] in 5:34 (~3:06 ▃▅▇ 64737/100000 [65%] in 5:35 (~3:03 ▂▄▆ 67849/100000 [68%] in 5:45 (~2:44 ▁▃▅ 68141/100000 [68%] in 5:47 (~2:42 ▁▃▅ 68856/100000 [69%] in 5:49 (~2:38 ▇▇▅ 71458/100000 [71%] in 6:00 (~2:24 ▇▇▅ 71458/100000 [71%] in 6:02 (~2:25 ▂▄▆ 72171/100000 [72%] in 6:09 (~2:22 ▅▃▁ 73950/100000 [74%] in 6:28 (~2:17 ▄▂▂ 77302/100000 [77%] in 6:47 (~2:00 ▇▅▃ 78294/100000 [78%] in 6:53 (~1:54 █▆▄ 82867/100000 [83%] in 7:16 (~1:31 ▆█▆ 83371/100000 [83%] in 7:19 (~1:27 ▁▃▅ 83824/100000 [84%] in 7:28 (~1:26 ▇▅▃ 83942/100000 [84%] in 7:32 (~1:26 ▃▁▃ 84448/100000 [84%] in 7:34 (~1:24 ▂▄▆ 84792/100000 [85%] in 7:37 (~1:22 ▄▆█ 85158/100000 [85%] in 7:38 (~1:20 █▆▄ 85761/100000 [86%] in 7:41 (~1:17 ▅▃▁ 85779/100000 [86%] in 7:41 (~1:16 ▄▂▂ 85779/100000 [86%] in 7:41 (~1:16 ▃▅▇ 85780/100000 [86%] in 7:41 (~1:16 ▄▆█ 87272/100000 [87%] in 7:54 (~1:09 ▂▂▄ 87587/100000 [88%] in 7:55 (~1:07 ▅▃▁ 87650/100000 [88%] in 7:56 (~1:07 ▃▅▇ 88698/100000 [89%] in 7:59 (~1:01 ▂▂▄ 90069/100000 [90%] in 8:01 (~53s, ▄▂▂ 91159/100000 [91%] in 8:04 (~47s, ▇▅▃ 91455/100000 [91%] in 8:05 (~45s, ▃▁▃ 91512/100000 [92%] in 8:07 (~45s, ▆▄▂ 96140/100000 [96%] in 8:31 (~21s, ▇▇▅ 96171/100000 [96%] in 8:32 (~20s, █▆▄ 98071/100000 [98%] in 8:41 (~11s, ▄▂▂ 98794/100000 [99%] in 8:45 (~6s,  ▄▂▂ 98794/100000 [99%] in 8:46 (~6s,  ▄▆█ 98800/100000 [99%] in 8:46 (~6s,  █▆▄ 99126/100000 [99%] in 8:50 (~5s, \n"
     ]
    }
   ],
   "source": [
    "print(\"Running Simulation\")\n",
    "with alive_bar(N_parallel, force_tty = True) as bar:  # Load a progress bar for N_parallel\n",
    "\n",
    "# Run all ticks for one virion, then all ticks for the next, etc. #\n",
    "    for i in range(len(Virion_Set)):\n",
    "        Virion = Virion_Set[i]\n",
    "#        print(\"Virion {}\".format(i))\n",
    "\n",
    "        # In theory, run for the full allowed time, but break early if the virion adsorbs or escapes. #\n",
    "        for tick in range(Nt):\n",
    "\n",
    "            Virion.Random_Step(XS, Z_vox)\n",
    "\n",
    "            if Virion.free != \"unbound\":\n",
    "                break\n",
    "            \n",
    "#    if Virion.free == \"unbound\":\n",
    "#        print(\"Remains unbound at {} after {} steps\".format(Virion.coords, len(Virion.path)-1))\n",
    "\n",
    "        bar()\n"
   ]
  },
  {
   "cell_type": "markdown",
   "id": "9b55962a-b55e-455f-b94b-c278549ba967",
   "metadata": {
    "tags": []
   },
   "source": [
    "### Plot Trajectories"
   ]
  },
  {
   "cell_type": "code",
   "execution_count": 11,
   "id": "d9e191c4-33a6-473a-9e3d-16f6effc5e88",
   "metadata": {},
   "outputs": [],
   "source": [
    "skip_this_section = True\n",
    "\n",
    "if not skip_this_section:\n",
    "    Longest_Path = max(len(virion.path) for virion in Virion_Set)\n",
    "    Plotting_Lower_Limit = Longest_Path  # Plot paths at least this long (currently plotting longest only)\n",
    "\n",
    "    for i in range(len(Virion_Set)):\n",
    "        Virion = Virion_Set[i]\n",
    "\n",
    "        if len(Virion.path) >= Plotting_Lower_Limit:\n",
    "            Plot_Traces(Virion, XS, Z_vox, None, 3)"
   ]
  },
  {
   "cell_type": "markdown",
   "id": "c9c99260-71ab-472b-bdd5-069280184deb",
   "metadata": {},
   "source": [
    "### Plot Adsorption Histogram"
   ]
  },
  {
   "cell_type": "code",
   "execution_count": 12,
   "id": "55271b4a-a511-4119-a2ce-4ccd7090f11c",
   "metadata": {},
   "outputs": [
    {
     "name": "stdout",
     "output_type": "stream",
     "text": [
      "Total Virions Adsorbed:  265\n",
      "Total Virions Escaped:  99735\n",
      "Total Virions Remaining:  0\n"
     ]
    }
   ],
   "source": [
    "## Headlines: What Happened? ##\n",
    "\n",
    "No_Adsorbed = 0\n",
    "No_Escaped = 0\n",
    "No_Remaining = 0\n",
    "\n",
    "for virion in Virion_Set:\n",
    "    if virion.free == \"bound\":\n",
    "        No_Adsorbed += 1\n",
    "    elif virion.free == \"escaped\":\n",
    "        No_Escaped += 1\n",
    "    else:\n",
    "        No_Remaining += 1\n",
    "        \n",
    "print(\"Total Virions Adsorbed: \", No_Adsorbed)\n",
    "print(\"Total Virions Escaped: \", No_Escaped)\n",
    "print(\"Total Virions Remaining: \", No_Remaining)"
   ]
  },
  {
   "cell_type": "code",
   "execution_count": 13,
   "id": "166b945a-a7a5-4aee-bcbb-7f127a46a9db",
   "metadata": {},
   "outputs": [
    {
     "name": "stdout",
     "output_type": "stream",
     "text": [
      "Adsorptions by cell:  [28. 24. 23. 20. 20. 14. 13. 14. 14. 11.  9. 10.  5.  5.  1.  5.  3.  7.\n",
      "  4.  3.  0.  1.  3.  4.  1.  0.  1.  2.  4.  1.  3.  5.  2.  2.  3.]\n",
      "Escaped phage:  99735\n"
     ]
    },
    {
     "data": {
      "image/png": "[encoded data removed]",
      "text/plain": [
       "<Figure size 640x480 with 1 Axes>"
      ]
     },
     "metadata": {},
     "output_type": "display_data"
    },
    {
     "data": {
      "image/png": "[encoded data removed]",
      "text/plain": [
       "<Figure size 640x480 with 1 Axes>"
      ]
     },
     "metadata": {},
     "output_type": "display_data"
    },
    {
     "data": {
      "text/plain": [
       "<Figure size 640x480 with 0 Axes>"
      ]
     },
     "metadata": {},
     "output_type": "display_data"
    }
   ],
   "source": [
    "## Hist: Histogram of Adsorptions by Voxel ##\n",
    "\n",
    "Hist_X = np.linspace(0, Z_um, Z_vox)\n",
    "Hist_Y = np.zeros(Z_vox)\n",
    "\n",
    "for i in range(len(Virion_Set)):\n",
    "    Virion = Virion_Set[i]\n",
    "    if Virion.free == \"bound\":\n",
    "        Hist_Y[Virion.coords[2]] += 1\n",
    "\n",
    "#print(Hist_Y)\n",
    "        \n",
    "## Cells: Histogram of Adsorptions by Cell ##\n",
    "\n",
    "N_Cells = int((Z_vox - 1) / C_vox)\n",
    "Cells_X = np.linspace(1, N_Cells, N_Cells)\n",
    "Cells_Y = np.zeros(N_Cells)\n",
    "\n",
    "for i in range(Z_vox-1):\n",
    "    j = int(i / C_vox)\n",
    "    Cells_Y[j] += Hist_Y[i]\n",
    "\n",
    "print(\"Adsorptions by cell: \", Cells_Y)   \n",
    "print(\"Escaped phage: \", No_Escaped)\n",
    "\n",
    "\n",
    "# Plot Linear Scale #\n",
    "plt.bar(Cells_X, Cells_Y, log = False, color = \"#a31500\")\n",
    "plt.xlabel(\"cell\")\n",
    "plt.ylabel(\"Adsorbed Phage\")\n",
    "plt.title(\"Total Phage Adsorbed\")\n",
    "plt.show()\n",
    "plt.clf()\n",
    "\n",
    "# Plot Log Scale #\n",
    "plt.bar(Cells_X, Cells_Y, log = True, color = \"#004080\")\n",
    "plt.xlabel(\"cell\")\n",
    "plt.ylabel(\"Adsorbed Phage\")\n",
    "plt.title(\"Total Phage Adsorbed\")\n",
    "plt.show()\n",
    "plt.clf()"
   ]
  },
  {
   "cell_type": "markdown",
   "id": "91d13475-b3e8-423e-bf70-add86c1a0502",
   "metadata": {
    "tags": []
   },
   "source": [
    "### Save Data"
   ]
  },
  {
   "cell_type": "code",
   "execution_count": 14,
   "id": "916f6fcd-85e9-4949-ba25-3f28faf7130d",
   "metadata": {},
   "outputs": [],
   "source": [
    "# ## Concatenate Cells_X and Cells_Y into a single array, then save ##\n",
    "\n",
    "# Array_to_Save = np.array(list(zip(Cells_X, Cells_Y)))\n",
    "\n",
    "# np.savetxt(\"MMRW_3.2. N_{}. aB0_{}. {}. dx_{} esc_{}.csv\".format(N_parallel, aB0, XS_str, dx, Can_Escape), Array_to_Save, delimiter=\",\")"
   ]
  },
  {
   "cell_type": "markdown",
   "id": "95baa4ab-045b-4c84-aa05-ff1f29a4b36f",
   "metadata": {},
   "source": [
    "### Check Data Recoverable"
   ]
  },
  {
   "cell_type": "code",
   "execution_count": 15,
   "id": "9aee11ea-1e0f-4d67-b299-d73fe03e3b87",
   "metadata": {},
   "outputs": [],
   "source": [
    "# PandasDataFrame = pd.read_csv(\"MMRW_3.2. N_{}. aB0_{}. {}. dx_{} esc_{}.csv\".format(N_parallel, aB0, XS_str, dx, Can_Escape), header = None)\n",
    "# Array_Recovered = np.array(PandasDataFrame)\n",
    "# print(Array_Recovered)"
   ]
  }
 ],
 "metadata": {
  "kernelspec": {
   "display_name": "Python 3 (ipykernel)",
   "language": "python",
   "name": "python3"
  },
  "language_info": {
   "codemirror_mode": {
    "name": "ipython",
    "version": 3
   },
   "file_extension": ".py",
   "mimetype": "text/x-python",
   "name": "python",
   "nbconvert_exporter": "python",
   "pygments_lexer": "ipython3",
   "version": "3.11.0"
  }
 },
 "nbformat": 4,
 "nbformat_minor": 5
}
